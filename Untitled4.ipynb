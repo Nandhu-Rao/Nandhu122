{
  "nbformat": 4,
  "nbformat_minor": 0,
  "metadata": {
    "colab": {
      "provenance": [],
      "authorship_tag": "ABX9TyOWnrDCvI6+GYFCbKNfDoVe",
      "include_colab_link": true
    },
    "kernelspec": {
      "name": "python3",
      "display_name": "Python 3"
    },
    "language_info": {
      "name": "python"
    }
  },
  "cells": [
    {
      "cell_type": "markdown",
      "metadata": {
        "id": "view-in-github",
        "colab_type": "text"
      },
      "source": [
        "<a href=\"https://colab.research.google.com/github/Nandhu-Rao/Nandhu122/blob/main/Untitled4.ipynb\" target=\"_parent\"><img src=\"https://colab.research.google.com/assets/colab-badge.svg\" alt=\"Open In Colab\"/></a>"
      ]
    },
    {
      "cell_type": "code",
      "execution_count": 3,
      "metadata": {
        "colab": {
          "base_uri": "https://localhost:8080/"
        },
        "id": "sDyFzC3uv7dV",
        "outputId": "beb61a85-3ffb-4062-a4ee-b31b39cfe388"
      },
      "outputs": [
        {
          "output_type": "stream",
          "name": "stdout",
          "text": [
            "Requirement already satisfied: opencv-python-headless in /usr/local/lib/python3.10/dist-packages (4.10.0.84)\n",
            "Requirement already satisfied: numpy>=1.21.2 in /usr/local/lib/python3.10/dist-packages (from opencv-python-headless) (1.26.4)\n",
            "Extracted 10 frames to /content/extracted_frames/sandeep\n"
          ]
        }
      ],
      "source": [
        "!pip install opencv-python-headless\n",
        "\n",
        "import cv2\n",
        "import os\n",
        "\n",
        "# Function to extract frames\n",
        "def extract_frames(video_path, output_folder, frame_rate=1):\n",
        "    # Create the output directory if it doesn't exist\n",
        "    if not os.path.exists(output_folder):\n",
        "        os.makedirs(output_folder)\n",
        "\n",
        "    # Load the video\n",
        "    cap = cv2.VideoCapture(video_path)\n",
        "    fps = int(cap.get(cv2.CAP_PROP_FPS))  # Get frames per second\n",
        "    frame_interval = int(fps * frame_rate)  # Interval between frames to capture\n",
        "\n",
        "    count = 0\n",
        "    saved_count = 0\n",
        "    while True:\n",
        "        ret, frame = cap.read()\n",
        "        if not ret:\n",
        "            break\n",
        "\n",
        "        # Save one frame per frame_interval\n",
        "        if count % frame_interval == 0:\n",
        "            filename = os.path.join(output_folder, f\"frame_{saved_count:04d}.jpg\")\n",
        "            cv2.imwrite(filename, frame)\n",
        "            saved_count += 1\n",
        "\n",
        "        count += 1\n",
        "\n",
        "    cap.release()\n",
        "    print(f\"Extracted {saved_count} frames to {output_folder}\")\n",
        "\n",
        "# Set parameters\n",
        "video_path = '/content/WhatsApp Video .mp4'  # Replace with your video file path\n",
        "output_folder = '/content/extracted_frames/sandeep'  # Folder to save frames\n",
        "frame_rate = 1  # Capture 1 frame per second\n",
        "\n",
        "# Call the function\n",
        "extract_frames(video_path, output_folder, frame_rate)\n"
      ]
    }
  ]
}